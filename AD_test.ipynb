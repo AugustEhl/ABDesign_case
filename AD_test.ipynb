{
 "cells": [
  {
   "attachments": {},
   "cell_type": "markdown",
   "id": "408d8898-76fc-4ae6-a893-f57498a4da23",
   "metadata": {},
   "source": [
    "# Antibody Design -  test\n",
    "\n",
    "These are the rules to complete this test:\n",
    "\n",
    "- In this test, you will be asked to perform some analyses on antibody sequences using python, and return the results as a jupyter notebook in a git repository.\n",
    "- The test should not take more than a couple of hours to complete. You can use any tools on internet, but you can't receive any external help.\n",
    "- You should describe the protocol you have used to obtain the results, whenever it involves anything outside the jupyter notebook itself (e.g. databases, web tools, etc)\n",
    "- The results of the test will be discussed in the 2nd interview\n",
    "\n",
    "The sequence of the antibody we will analyse is the following:\n",
    "\n"
   ]
  },
  {
   "attachments": {},
   "cell_type": "markdown",
   "id": "52a1a8cd",
   "metadata": {},
   "source": [
    ">VH\n",
    "QVQLKESGPGLVAPSQSLSITCTVSGFPLTAYGVNWVRQPPGKGLEWLGMIWGDGNTDYNSALKSRLSISKDNSKSQVFLKMNSLQTDDTARYYCARDPYGSKPMDYWGQGTSVTVSS\n",
    ">VL\n",
    "DIVMSQSPSSLVVSVGEKVTMSCKSSQSLLYSSNQKNFLAWYQQKPGQSPKLLIYWASTRESGVPDRFTGSGSGTDFTLTISSVKAEDLAVYYCQQYFRYRTFGGGTKLEIKRA"
   ]
  },
  {
   "attachments": {},
   "cell_type": "markdown",
   "id": "07298bfe-1ed3-4526-868a-c8cce2abe6f5",
   "metadata": {},
   "source": [
    "__Q1__ Install the package anarci, and using it retrieve the following information:\n",
    "- germlines\n",
    "- CDR sequences\n",
    "- SHMs"
   ]
  },
  {
   "cell_type": "code",
   "execution_count": 246,
   "id": "c31c727d",
   "metadata": {},
   "outputs": [],
   "source": [
    "# Creating csv for VH\n",
    "!ANARCI -i QVQLKESGPGLVAPSQSLSITCTVSGFPLTAYGVNWVRQPPGKGLEWLGMIWGDGNTDYNSALKSRLSISKDNSKSQVFLKMNSLQTDDTARYYCARDPYGSKPMDYWGQGTSVTVSS --assign_germline --outfile VH --csv --scheme imgt --r H\n",
    "\n",
    "# Creating csv for VL\n",
    "!ANARCI -i DIVMSQSPSSLVVSVGEKVTMSCKSSQSLLYSSNQKNFLAWYQQKPGQSPKLLIYWASTRESGVPDRFTGSGSGTDFTLTISSVKAEDLAVYYCQQYFRYRTFGGGTKLEIKRA --assign_germline --outfile VL --csv --scheme imgt --r L"
   ]
  },
  {
   "cell_type": "code",
   "execution_count": 170,
   "id": "e379dbd8",
   "metadata": {},
   "outputs": [],
   "source": [
    "import pandas as pd\n",
    "# Loading saved CSV\n",
    "df_VH = pd.read_csv(\"ABDesign_case_H.csv\")\n",
    "df_VL = pd.read_csv(\"ABDesign_case_KL.csv\")"
   ]
  },
  {
   "cell_type": "code",
   "execution_count": 171,
   "id": "a0640b38",
   "metadata": {},
   "outputs": [],
   "source": [
    "aligned_VH = df_VH.iloc[:,13:]\n",
    "aligned_VL = df_VL.iloc[:,13:]"
   ]
  },
  {
   "cell_type": "code",
   "execution_count": 172,
   "id": "e2aebd92",
   "metadata": {},
   "outputs": [
    {
     "data": {
      "text/plain": [
       "{'v_gene': 'IGHV2-6-7*01',\n",
       " 'j_gene': 'IGHJ4*01',\n",
       " 'CDR1': 'GFPL----TAYG',\n",
       " 'CDR2': 'IWGD---GNT',\n",
       " 'CDR3': 'ARDPYG-SKPMDY'}"
      ]
     },
     "execution_count": 172,
     "metadata": {},
     "output_type": "execute_result"
    }
   ],
   "source": [
    "# Providing overview of important information from the VH chain\n",
    "VH_info = dict(\n",
    "    v_gene=df_VH.v_gene.values[0],\n",
    "    j_gene=df_VH.j_gene.values[0],\n",
    "    CDR1=\"\".join(aligned_VH.iloc[:,26:38].values.tolist()[0]),\n",
    "    CDR2=\"\".join(aligned_VH.iloc[:,55:65].values.tolist()[0]),\n",
    "    CDR3=\"\".join(aligned_VH.iloc[:,104:117].values.tolist()[0])\n",
    ")\n",
    "VH_info"
   ]
  },
  {
   "cell_type": "code",
   "execution_count": 174,
   "id": "9e8f0f1e",
   "metadata": {},
   "outputs": [
    {
     "data": {
      "text/plain": [
       "{'v_gene': 'IGKV8-30*01',\n",
       " 'j_gene': 'IGKJ1*01',\n",
       " 'CDR1': 'QSLLYSSNQKNF',\n",
       " 'CDR2': 'WA-------S',\n",
       " 'CDR3': 'QQYF-----RYRT'}"
      ]
     },
     "execution_count": 174,
     "metadata": {},
     "output_type": "execute_result"
    }
   ],
   "source": [
    "# Providing overview of important information from the VL chain\n",
    "VL_info = dict(\n",
    "    v_gene=df_VL.v_gene.values[0],\n",
    "    j_gene=df_VL.j_gene.values[0],\n",
    "    CDR1=\"\".join(aligned_VL.iloc[:,26:38].values.tolist()[0]),\n",
    "    CDR2=\"\".join(aligned_VL.iloc[:,55:65].values.tolist()[0]),\n",
    "    CDR3=\"\".join(aligned_VL.iloc[:,104:117].values.tolist()[0])\n",
    ")\n",
    "VL_info"
   ]
  },
  {
   "attachments": {},
   "cell_type": "markdown",
   "id": "543b78dc-d88c-4f60-9077-b1b4d4d478e0",
   "metadata": {},
   "source": [
    "__Q2__ write a function that returns all the occurrences of the motifs NG, DG, NS, and DS, if they overlap at least partially with any of the CDRs"
   ]
  },
  {
   "cell_type": "code",
   "execution_count": 175,
   "id": "4faa2cb0-902e-447b-85e6-b7b4270a7a01",
   "metadata": {},
   "outputs": [],
   "source": [
    "def occurences(sequence):\n",
    "    \"\"\"\n",
    "    A function that counts the occurences of overlapping motifs with any CDRs. \n",
    "\n",
    "    Assuming sequence is IMGT-numbered\n",
    "    \"\"\"\n",
    "    motifs = [\"NG\", \"DG\", \"NS\", \"DS\"] # A list to look up motifs\n",
    "    motif_counts = dict(\n",
    "        NG=0,\n",
    "        DG=0,\n",
    "        NS=0,\n",
    "        DS=0\n",
    "    ) # dict where we count each motif\n",
    "    for i in range(len(sequence[25:39].replace(\"-\",\"\"))-1): # CDR1 - We add stem since we are interested in partially overlapping motifs\n",
    "        motif=sequence[i] + sequence[i+1]\n",
    "        if motif in motifs:\n",
    "            motif_counts[motif] += 1\n",
    "    for i in range(len(sequence[54:66].replace(\"-\",\"\"))-1): # CDR2\n",
    "        motif=sequence[i] + sequence[i+1]\n",
    "        if motif in motifs:\n",
    "            motif_counts[motif] += 1 \n",
    "    for i in range(len(sequence[103:118].replace(\"-\",\"\"))-1): # CDR3\n",
    "        motif=sequence[i] + sequence[i+1]\n",
    "        if motif in motifs:\n",
    "            motif_counts[motif] += 1 \n",
    "    return motif_counts"
   ]
  },
  {
   "cell_type": "code",
   "execution_count": 176,
   "id": "2fc5e803",
   "metadata": {},
   "outputs": [
    {
     "data": {
      "text/plain": [
       "{'NG': 0, 'DG': 0, 'NS': 0, 'DS': 0}"
      ]
     },
     "execution_count": 176,
     "metadata": {},
     "output_type": "execute_result"
    }
   ],
   "source": [
    "occurences(\"\".join(aligned_VL.values.tolist()[0]))"
   ]
  },
  {
   "cell_type": "code",
   "execution_count": 247,
   "id": "b999e142",
   "metadata": {},
   "outputs": [
    {
     "data": {
      "text/plain": [
       "{'NG': 0, 'DG': 0, 'NS': 0, 'DS': 0}"
      ]
     },
     "execution_count": 247,
     "metadata": {},
     "output_type": "execute_result"
    }
   ],
   "source": [
    "occurences(\"\".join(aligned_VH.values.tolist()[0]))"
   ]
  },
  {
   "attachments": {},
   "cell_type": "markdown",
   "id": "f210873f",
   "metadata": {},
   "source": [
    "No overlapping or partially overlapping motifs with CDRs were found in the sequences"
   ]
  },
  {
   "attachments": {},
   "cell_type": "markdown",
   "id": "90098d78-4f56-4fdb-9b3c-7fdee431a91d",
   "metadata": {},
   "source": [
    "__Q3__ These sites are potential liabilities in the antibody. Using online tools, and your own intuition, describe which othese occurences might be problematic, which residues you would suggest mutating to eliminate such liabilities minimizing the risk of affecting the antibody binding affinity, and why"
   ]
  },
  {
   "attachments": {},
   "cell_type": "markdown",
   "id": "a81da305",
   "metadata": {},
   "source": [
    "If the motifs are found at CDR regions it can affect binding. As CDRs are the ones that interact with antigen it is likely that a change in motif in these regions lead to poor affinity. Thus, I would suggest mutating residues in the framework regions to minimize risk affecting antibody binding affinity"
   ]
  },
  {
   "attachments": {},
   "cell_type": "markdown",
   "id": "a05c5b4d-ca2a-4839-98ab-642c2d92a802",
   "metadata": {},
   "source": [
    "__Q4__ Using the online tool ABodybuilder, build a 3d structure for this antibody. On the structure, using pymol or any python library of your choice (e.g. BioPDB) identify the minimal distance between any atom of any residue in the CDR3 of the heavy and light chains. You will need to report the residue in the CDR3 of the havy chain and the atom, the residue in the CDFR3 of the light chain and the atom"
   ]
  },
  {
   "cell_type": "code",
   "execution_count": 239,
   "id": "45022a8e-e258-46f9-8dcf-eb9e98c576cf",
   "metadata": {},
   "outputs": [],
   "source": [
    "from Bio.PDB.PDBParser import PDBParser\n",
    "parser = PDBParser(PERMISSIVE=True)\n",
    "structure_id = \"ABDesign_case_rank1_imgt_scheme\"\n",
    "filename = \"ABDesign_case_rank1_imgt_scheme.pdb\"\n",
    "model = parser.get_structure(structure_id, filename)[0]\n",
    "chainH = model[\"H\"]\n",
    "chainL = model[\"L\"]"
   ]
  },
  {
   "cell_type": "code",
   "execution_count": 245,
   "id": "b8f6d4b0",
   "metadata": {},
   "outputs": [
    {
     "data": {
      "text/plain": [
       "7.928552"
      ]
     },
     "execution_count": 245,
     "metadata": {},
     "output_type": "execute_result"
    }
   ],
   "source": [
    "# Here I chose CA of residue 114 of the heavy chain and calculated its distance to the CA of residue 107 in the light chain \n",
    "chainH[114][\"CA\"] - chainL[107][\"CA\"]"
   ]
  },
  {
   "attachments": {},
   "cell_type": "markdown",
   "id": "4a14d2b0-b45e-4f76-b9f8-eb5501a782f0",
   "metadata": {},
   "source": [
    "__Q5__ A library was constructed on the antibody by introducing variability in the CDR3 of the heavy chain, and the binding affinity was measured for each antibody in the library. The affinities are reported as -log10, so the higher values indicate the stronger binders. Can you provide the code to train an XGboost model on the train_data using the techniques you deem necessary to ensure the model robustness, and use it to predict the binding affinity of the antibody in the list _test_\n",
    "Report the model performance in terms of RMSE, the predicted values for the test antibodies, and any comment on the model."
   ]
  },
  {
   "cell_type": "code",
   "execution_count": null,
   "id": "e0b9ed3b-dcc0-444d-81c7-1f7f8e5496d8",
   "metadata": {},
   "outputs": [],
   "source": [
    "import numpy as np\n",
    "import random\n",
    "import string\n",
    "\n",
    "# Define the number of data points\n",
    "n_samples = 1000\n",
    "\n",
    "# Define possible amino acids\n",
    "amino_acids = list('ARNDCEQGHILKMFPSTWYV')\n",
    "\n",
    "# Generate random CDR3 sequences\n",
    "def generate_CDR3(length):\n",
    "    return ''.join(random.choice(amino_acids) for _ in range(length))\n",
    "\n",
    "CDR3_sequences = [generate_CDR3(np.random.randint(15, 20)) for _ in range(n_samples)]\n",
    "\n",
    "# Generate random scores between 0 and 10\n",
    "scores = np.random.uniform(6, 10, n_samples)\n",
    "\n",
    "# Create dataset\n",
    "train_data = list(zip(CDR3_sequences, scores))\n",
    "\n",
    "test_data = ['KYWRDGSTWWELIYGYG',\n",
    " 'RQSFKFCCTFE', \n",
    " 'LLWRYFFRKFSCD',\n",
    " 'STLTFSDNIGSYPCWD',\n",
    " 'QRLQEHTAGRG']"
   ]
  }
 ],
 "metadata": {
  "kernelspec": {
   "display_name": "Python 3 (ipykernel)",
   "language": "python",
   "name": "python3"
  },
  "language_info": {
   "codemirror_mode": {
    "name": "ipython",
    "version": 3
   },
   "file_extension": ".py",
   "mimetype": "text/x-python",
   "name": "python",
   "nbconvert_exporter": "python",
   "pygments_lexer": "ipython3",
   "version": "3.10.8"
  },
  "widgets": {
   "application/vnd.jupyter.widget-state+json": {
    "state": {},
    "version_major": 2,
    "version_minor": 0
   }
  }
 },
 "nbformat": 4,
 "nbformat_minor": 5
}
