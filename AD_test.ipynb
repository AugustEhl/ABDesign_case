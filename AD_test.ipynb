{
 "cells": [
  {
   "attachments": {},
   "cell_type": "markdown",
   "id": "408d8898-76fc-4ae6-a893-f57498a4da23",
   "metadata": {},
   "source": [
    "# Antibody Design -  test\n",
    "\n",
    "These are the rules to complete this test:\n",
    "\n",
    "- In this test, you will be asked to perform some analyses on antibody sequences using python, and return the results as a jupyter notebook in a git repository.\n",
    "- The test should not take more than a couple of hours to complete. You can use any tools on internet, but you can't receive any external help.\n",
    "- You should describe the protocol you have used to obtain the results, whenever it involves anything outside the jupyter notebook itself (e.g. databases, web tools, etc)\n",
    "- The results of the test will be discussed in the 2nd interview\n",
    "\n",
    "The sequence of the antibody we will analyse is the following:\n",
    "\n"
   ]
  },
  {
   "attachments": {},
   "cell_type": "markdown",
   "id": "52a1a8cd",
   "metadata": {},
   "source": [
    ">VH\n",
    "QVQLKESGPGLVAPSQSLSITCTVSGFPLTAYGVNWVRQPPGKGLEWLGMIWGDGNTDYNSALKSRLSISKDNSKSQVFLKMNSLQTDDTARYYCARDPYGSKPMDYWGQGTSVTVSS\n",
    ">VL\n",
    "DIVMSQSPSSLVVSVGEKVTMSCKSSQSLLYSSNQKNFLAWYQQKPGQSPKLLIYWASTRESGVPDRFTGSGSGTDFTLTISSVKAEDLAVYYCQQYFRYRTFGGGTKLEIKRA"
   ]
  },
  {
   "attachments": {},
   "cell_type": "markdown",
   "id": "07298bfe-1ed3-4526-868a-c8cce2abe6f5",
   "metadata": {},
   "source": [
    "__Q1__ Install the package anarci, and using it retrieve the following information:\n",
    "- germlines\n",
    "- CDR sequences\n",
    "- SHMs"
   ]
  },
  {
   "cell_type": "code",
   "execution_count": 1,
   "id": "c31c727d",
   "metadata": {},
   "outputs": [
    {
     "name": "stdout",
     "output_type": "stream",
     "text": [
      "zsh:1: command not found: ANARCI\n",
      "zsh:1: command not found: ANARCI\n"
     ]
    }
   ],
   "source": [
    "# Creating csv for VH\n",
    "!ANARCI -i QVQLKESGPGLVAPSQSLSITCTVSGFPLTAYGVNWVRQPPGKGLEWLGMIWGDGNTDYNSALKSRLSISKDNSKSQVFLKMNSLQTDDTARYYCARDPYGSKPMDYWGQGTSVTVSS --assign_germline --outfile VH --csv --scheme imgt --r H\n",
    "\n",
    "# Creating csv for VL\n",
    "!ANARCI -i DIVMSQSPSSLVVSVGEKVTMSCKSSQSLLYSSNQKNFLAWYQQKPGQSPKLLIYWASTRESGVPDRFTGSGSGTDFTLTISSVKAEDLAVYYCQQYFRYRTFGGGTKLEIKRA --assign_germline --outfile VL --csv --scheme imgt --r L"
   ]
  },
  {
   "cell_type": "code",
   "execution_count": 2,
   "id": "e379dbd8",
   "metadata": {},
   "outputs": [],
   "source": [
    "import pandas as pd\n",
    "\n",
    "# Loading saved CSV\n",
    "df_VH = pd.read_csv(\"ABDesign_case_H.csv\")\n",
    "df_VL = pd.read_csv(\"ABDesign_case_KL.csv\")"
   ]
  },
  {
   "cell_type": "code",
   "execution_count": 3,
   "id": "a0640b38",
   "metadata": {},
   "outputs": [],
   "source": [
    "aligned_VH = df_VH.iloc[:, 13:]\n",
    "aligned_VL = df_VL.iloc[:, 13:]"
   ]
  },
  {
   "cell_type": "code",
   "execution_count": 4,
   "id": "e2aebd92",
   "metadata": {},
   "outputs": [
    {
     "data": {
      "text/plain": [
       "{'v_gene': 'IGHV2-6-7*01',\n",
       " 'j_gene': 'IGHJ4*01',\n",
       " 'CDR1': 'GFPL----TAYG',\n",
       " 'CDR2': 'IWGD---GNT',\n",
       " 'CDR3': 'ARDPYG-SKPMDY'}"
      ]
     },
     "execution_count": 4,
     "metadata": {},
     "output_type": "execute_result"
    }
   ],
   "source": [
    "# Providing overview of important information from the VH chain\n",
    "VH_info = dict(\n",
    "    v_gene=df_VH.v_gene.values[0],\n",
    "    j_gene=df_VH.j_gene.values[0],\n",
    "    CDR1=\"\".join(aligned_VH.iloc[:, 26:38].values.tolist()[0]),\n",
    "    CDR2=\"\".join(aligned_VH.iloc[:, 55:65].values.tolist()[0]),\n",
    "    CDR3=\"\".join(aligned_VH.iloc[:, 104:117].values.tolist()[0]),\n",
    ")\n",
    "VH_info"
   ]
  },
  {
   "cell_type": "code",
   "execution_count": 5,
   "id": "9e8f0f1e",
   "metadata": {},
   "outputs": [
    {
     "data": {
      "text/plain": [
       "{'v_gene': 'IGKV8-30*01',\n",
       " 'j_gene': 'IGKJ1*01',\n",
       " 'CDR1': 'QSLLYSSNQKNF',\n",
       " 'CDR2': 'WA-------S',\n",
       " 'CDR3': 'QQYF-----RYRT'}"
      ]
     },
     "execution_count": 5,
     "metadata": {},
     "output_type": "execute_result"
    }
   ],
   "source": [
    "# Providing overview of important information from the VL chain\n",
    "VL_info = dict(\n",
    "    v_gene=df_VL.v_gene.values[0],\n",
    "    j_gene=df_VL.j_gene.values[0],\n",
    "    CDR1=\"\".join(aligned_VL.iloc[:, 26:38].values.tolist()[0]),\n",
    "    CDR2=\"\".join(aligned_VL.iloc[:, 55:65].values.tolist()[0]),\n",
    "    CDR3=\"\".join(aligned_VL.iloc[:, 104:117].values.tolist()[0]),\n",
    ")\n",
    "VL_info"
   ]
  },
  {
   "attachments": {},
   "cell_type": "markdown",
   "id": "543b78dc-d88c-4f60-9077-b1b4d4d478e0",
   "metadata": {},
   "source": [
    "__Q2__ write a function that returns all the occurrences of the motifs NG, DG, NS, and DS, if they overlap at least partially with any of the CDRs"
   ]
  },
  {
   "cell_type": "code",
   "execution_count": 6,
   "id": "4faa2cb0-902e-447b-85e6-b7b4270a7a01",
   "metadata": {},
   "outputs": [],
   "source": [
    "def occurences(sequence):\n",
    "    \"\"\"\n",
    "    A function that counts the occurences of overlapping motifs with any CDRs.\n",
    "\n",
    "    Assuming sequence is IMGT-numbered\n",
    "    \"\"\"\n",
    "    motifs = [\"NG\", \"DG\", \"NS\", \"DS\"]  # A list to look up motifs\n",
    "    motif_counts = dict(NG=0, DG=0, NS=0, DS=0)  # dict where we count each motif\n",
    "    for i in range(\n",
    "        len(sequence[25:39].replace(\"-\", \"\")) - 1\n",
    "    ):  # CDR1 - We add stem since we are interested in partially overlapping motifs\n",
    "        motif = sequence[i] + sequence[i + 1]\n",
    "        if motif in motifs:\n",
    "            motif_counts[motif] += 1\n",
    "    for i in range(len(sequence[54:66].replace(\"-\", \"\")) - 1):  # CDR2\n",
    "        motif = sequence[i] + sequence[i + 1]\n",
    "        if motif in motifs:\n",
    "            motif_counts[motif] += 1\n",
    "    for i in range(len(sequence[103:118].replace(\"-\", \"\")) - 1):  # CDR3\n",
    "        motif = sequence[i] + sequence[i + 1]\n",
    "        if motif in motifs:\n",
    "            motif_counts[motif] += 1\n",
    "    return motif_counts"
   ]
  },
  {
   "cell_type": "code",
   "execution_count": 7,
   "id": "2fc5e803",
   "metadata": {},
   "outputs": [
    {
     "data": {
      "text/plain": [
       "{'NG': 0, 'DG': 0, 'NS': 0, 'DS': 0}"
      ]
     },
     "execution_count": 7,
     "metadata": {},
     "output_type": "execute_result"
    }
   ],
   "source": [
    "occurences(\"\".join(aligned_VL.values.tolist()[0]))"
   ]
  },
  {
   "cell_type": "code",
   "execution_count": 8,
   "id": "b999e142",
   "metadata": {},
   "outputs": [
    {
     "data": {
      "text/plain": [
       "{'NG': 0, 'DG': 0, 'NS': 0, 'DS': 0}"
      ]
     },
     "execution_count": 8,
     "metadata": {},
     "output_type": "execute_result"
    }
   ],
   "source": [
    "occurences(\"\".join(aligned_VH.values.tolist()[0]))"
   ]
  },
  {
   "attachments": {},
   "cell_type": "markdown",
   "id": "f210873f",
   "metadata": {},
   "source": [
    "No overlapping or partially overlapping motifs with CDRs were found in the sequences"
   ]
  },
  {
   "attachments": {},
   "cell_type": "markdown",
   "id": "90098d78-4f56-4fdb-9b3c-7fdee431a91d",
   "metadata": {},
   "source": [
    "__Q3__ These sites are potential liabilities in the antibody. Using online tools, and your own intuition, describe which othese occurences might be problematic, which residues you would suggest mutating to eliminate such liabilities minimizing the risk of affecting the antibody binding affinity, and why"
   ]
  },
  {
   "attachments": {},
   "cell_type": "markdown",
   "id": "a81da305",
   "metadata": {},
   "source": [
    "If the motifs are found at CDR regions it can affect binding. As CDRs are the ones that interact with antigen it is likely that a change in motif in these regions lead to poor affinity. Thus, I would suggest mutating residues in the framework regions to minimize risk affecting antibody binding affinity"
   ]
  },
  {
   "attachments": {},
   "cell_type": "markdown",
   "id": "a05c5b4d-ca2a-4839-98ab-642c2d92a802",
   "metadata": {},
   "source": [
    "__Q4__ Using the online tool ABodybuilder, build a 3d structure for this antibody. On the structure, using pymol or any python library of your choice (e.g. BioPDB) identify the minimal distance between any atom of any residue in the CDR3 of the heavy and light chains. You will need to report the residue in the CDR3 of the havy chain and the atom, the residue in the CDFR3 of the light chain and the atom"
   ]
  },
  {
   "cell_type": "code",
   "execution_count": 9,
   "id": "45022a8e-e258-46f9-8dcf-eb9e98c576cf",
   "metadata": {},
   "outputs": [],
   "source": [
    "from Bio.PDB.PDBParser import PDBParser\n",
    "\n",
    "parser = PDBParser(PERMISSIVE=True)\n",
    "structure_id = \"ABDesign_case_rank1_imgt_scheme\"\n",
    "filename = \"ABDesign_case_rank1_imgt_scheme.pdb\"\n",
    "model = parser.get_structure(structure_id, filename)[0]\n",
    "chainH = model[\"H\"]\n",
    "chainL = model[\"L\"]"
   ]
  },
  {
   "cell_type": "code",
   "execution_count": 10,
   "id": "b8f6d4b0",
   "metadata": {},
   "outputs": [
    {
     "data": {
      "text/plain": [
       "7.928552"
      ]
     },
     "execution_count": 10,
     "metadata": {},
     "output_type": "execute_result"
    }
   ],
   "source": [
    "# Here I chose CA of residue 114 of the heavy chain and calculated its distance to the CA of residue 107 in the light chain\n",
    "chainH[114][\"CA\"] - chainL[107][\"CA\"]"
   ]
  },
  {
   "attachments": {},
   "cell_type": "markdown",
   "id": "4a14d2b0-b45e-4f76-b9f8-eb5501a782f0",
   "metadata": {},
   "source": [
    "__Q5__ A library was constructed on the antibody by introducing variability in the CDR3 of the heavy chain, and the binding affinity was measured for each antibody in the library. The affinities are reported as -log10, so the higher values indicate the stronger binders. Can you provide the code to train an XGboost model on the train_data using the techniques you deem necessary to ensure the model robustness, and use it to predict the binding affinity of the antibody in the list _test_\n",
    "Report the model performance in terms of RMSE, the predicted values for the test antibodies, and any comment on the model."
   ]
  },
  {
   "cell_type": "code",
   "execution_count": 11,
   "id": "e0b9ed3b-dcc0-444d-81c7-1f7f8e5496d8",
   "metadata": {},
   "outputs": [],
   "source": [
    "import numpy as np\n",
    "import random\n",
    "import string\n",
    "\n",
    "# Define the number of data points\n",
    "n_samples = 1000\n",
    "\n",
    "# Define possible amino acids\n",
    "amino_acids = list(\"ARNDCEQGHILKMFPSTWYV\")\n",
    "\n",
    "\n",
    "# Generate random CDR3 sequences\n",
    "def generate_CDR3(length):\n",
    "    return \"\".join(random.choice(amino_acids) for _ in range(length))\n",
    "\n",
    "\n",
    "CDR3_sequences = [generate_CDR3(np.random.randint(15, 20)) for _ in range(n_samples)]\n",
    "\n",
    "# Generate random scores between 0 and 10\n",
    "scores = np.random.uniform(6, 10, n_samples)\n",
    "\n",
    "# Create dataset\n",
    "train_data = list(zip(CDR3_sequences, scores))\n",
    "\n",
    "test_data = [\n",
    "    \"KYWRDGSTWWELIYGYG\",\n",
    "    \"RQSFKFCCTFE\",\n",
    "    \"LLWRYFFRKFSCD\",\n",
    "    \"STLTFSDNIGSYPCWD\",\n",
    "    \"QRLQEHTAGRG\",\n",
    "]"
   ]
  },
  {
   "cell_type": "code",
   "execution_count": 12,
   "id": "2ec96202",
   "metadata": {},
   "outputs": [
    {
     "name": "stderr",
     "output_type": "stream",
     "text": [
      "2023-05-22 22:13:56 | INFO | fairseq.tasks.text_to_speech | Please install tensorboardX: pip install tensorboardX\n"
     ]
    }
   ],
   "source": [
    "import sapiens\n",
    "\n",
    "\n",
    "def get_sapiens_embedding(sequences):\n",
    "    embs = []\n",
    "    for seq in sequences:\n",
    "        emb = sapiens.predict_sequence_embedding(seq, \"H\", layer=None)\n",
    "        embs.append(emb)\n",
    "    return np.array(embs)"
   ]
  },
  {
   "cell_type": "code",
   "execution_count": 13,
   "id": "bfd9d78a",
   "metadata": {},
   "outputs": [
    {
     "name": "stderr",
     "output_type": "stream",
     "text": [
      "2023-05-22 22:13:56 | INFO | fairseq.file_utils | loading archive file /Users/augustehlers/miniconda3/envs/ABDesign_case/lib/python3.8/site-packages/sapiens/models/v1\n",
      "2023-05-22 22:13:56 | INFO | fairseq.file_utils | loading archive file /Users/augustehlers/miniconda3/envs/ABDesign_case/lib/python3.8/site-packages/sapiens/models/v1\n",
      "2023-05-22 22:13:57 | INFO | fairseq.tasks.masked_lm | dictionary: 24 types\n",
      "2023-05-22 22:13:57 | INFO | fairseq.models.roberta.model | {'_name': None, 'common': {'_name': None, 'no_progress_bar': False, 'log_interval': 1000, 'log_format': 'simple', 'log_file': None, 'aim_repo': None, 'aim_run_hash': None, 'tensorboard_logdir': 'data/models/human_heavy_chain_by_year/seq_random20M/13_unmasked_700epochs/tensorboard', 'wandb_project': None, 'azureml_logging': False, 'seed': 1, 'cpu': False, 'tpu': False, 'bf16': False, 'memory_efficient_bf16': False, 'fp16': True, 'memory_efficient_fp16': False, 'fp16_no_flatten_grads': False, 'fp16_init_scale': 128, 'fp16_scale_window': None, 'fp16_scale_tolerance': 0.0, 'on_cpu_convert_precision': False, 'min_loss_scale': 0.0001, 'threshold_loss_scale': None, 'amp': False, 'amp_batch_retries': 2, 'amp_init_scale': 128, 'amp_scale_window': None, 'user_dir': 'bin/fairseq_plugins', 'empty_cache_freq': 0, 'all_gather_list_size': 16384, 'model_parallel_size': 1, 'quantization_config_path': None, 'profile': False, 'reset_logging': False, 'suppress_crashes': False, 'use_plasma_view': False, 'plasma_path': '/tmp/plasma'}, 'common_eval': {'_name': None, 'path': None, 'post_process': None, 'quiet': False, 'model_overrides': '{}', 'results_path': None}, 'distributed_training': {'_name': None, 'distributed_world_size': 4, 'distributed_num_procs': 1, 'distributed_rank': 0, 'distributed_backend': 'nccl', 'distributed_init_method': 'tcp://localhost:16224', 'distributed_port': -1, 'device_id': 0, 'distributed_no_spawn': False, 'ddp_backend': 'no_c10d', 'ddp_comm_hook': 'none', 'bucket_cap_mb': 25, 'fix_batches_to_gpus': False, 'find_unused_parameters': False, 'gradient_as_bucket_view': False, 'fast_stat_sync': False, 'heartbeat_timeout': -1, 'broadcast_buffers': False, 'slowmo_momentum': None, 'slowmo_base_algorithm': 'localsgd', 'localsgd_frequency': 3, 'nprocs_per_node': 1, 'pipeline_model_parallel': False, 'pipeline_balance': None, 'pipeline_devices': None, 'pipeline_chunks': 0, 'pipeline_encoder_balance': None, 'pipeline_encoder_devices': None, 'pipeline_decoder_balance': None, 'pipeline_decoder_devices': None, 'pipeline_checkpoint': 'never', 'zero_sharding': 'none', 'fp16': True, 'memory_efficient_fp16': False, 'tpu': True, 'no_reshard_after_forward': False, 'fp32_reduce_scatter': False, 'cpu_offload': False, 'use_sharded_state': False, 'not_fsdp_flatten_parameters': False}, 'dataset': {'_name': None, 'num_workers': 1, 'skip_invalid_size_inputs_valid_test': True, 'max_tokens': None, 'batch_size': None, 'required_batch_size_multiple': 8, 'required_seq_len_multiple': 1, 'dataset_impl': None, 'data_buffer_size': 10, 'train_subset': 'train', 'valid_subset': 'valid', 'combine_valid_subsets': None, 'ignore_unused_valid_subsets': False, 'validate_interval': 5, 'validate_interval_updates': 0, 'validate_after_updates': 0, 'fixed_validation_seed': None, 'disable_validation': False, 'max_tokens_valid': None, 'batch_size_valid': None, 'max_valid_steps': None, 'curriculum': 0, 'gen_subset': 'test', 'num_shards': 1, 'shard_id': 0, 'grouped_shuffling': False, 'update_epoch_batch_itr': True, 'update_ordered_indices_seed': False}, 'optimization': {'_name': None, 'max_epoch': 700, 'max_update': 0, 'stop_time_hours': 0.0, 'clip_norm': 25.0, 'sentence_avg': False, 'update_freq': [1], 'lr': [0.001], 'stop_min_lr': -1.0, 'use_bmuf': False, 'skip_remainder_batch': False}, 'checkpoint': {'_name': None, 'save_dir': 'data/models/human_heavy_chain_by_year/seq_random20M/13_unmasked_700epochs/checkpoints', 'restore_file': 'data/models/human_heavy_chain_by_year/seq_random20M/11_faster_smooth_600epochs/checkpoints/checkpoint_last.pt', 'continue_once': None, 'finetune_from_model': None, 'reset_dataloader': False, 'reset_lr_scheduler': False, 'reset_meters': False, 'reset_optimizer': False, 'optimizer_overrides': '{}', 'save_interval': 1, 'save_interval_updates': 0, 'keep_interval_updates': 0, 'keep_interval_updates_pattern': -1, 'keep_last_epochs': -1, 'keep_best_checkpoints': -1, 'no_save': False, 'no_epoch_checkpoints': False, 'no_last_checkpoints': False, 'no_save_optimizer_state': False, 'best_checkpoint_metric': 'loss', 'maximize_best_checkpoint_metric': False, 'patience': -1, 'checkpoint_suffix': '', 'checkpoint_shard_count': 1, 'load_checkpoint_on_all_dp_ranks': False, 'write_checkpoints_asynchronously': False, 'model_parallel_size': 1}, 'bmuf': {'_name': None, 'block_lr': 1.0, 'block_momentum': 0.875, 'global_sync_iter': 50, 'warmup_iterations': 500, 'use_nbm': False, 'average_sync': False, 'distributed_world_size': 4}, 'generation': {'_name': None, 'beam': 5, 'nbest': 1, 'max_len_a': 0.0, 'max_len_b': 200, 'min_len': 1, 'match_source_len': False, 'unnormalized': False, 'no_early_stop': False, 'no_beamable_mm': False, 'lenpen': 1.0, 'unkpen': 0.0, 'replace_unk': None, 'sacrebleu': False, 'score_reference': False, 'prefix_size': 0, 'no_repeat_ngram_size': 0, 'sampling': False, 'sampling_topk': -1, 'sampling_topp': -1.0, 'constraints': None, 'temperature': 1.0, 'diverse_beam_groups': -1, 'diverse_beam_strength': 0.5, 'diversity_rate': -1.0, 'print_alignment': None, 'print_step': False, 'lm_path': None, 'lm_weight': 0.0, 'iter_decode_eos_penalty': 0.0, 'iter_decode_max_iter': 10, 'iter_decode_force_max_iter': False, 'iter_decode_with_beam': 1, 'iter_decode_with_external_reranker': False, 'retain_iter_history': False, 'retain_dropout': False, 'retain_dropout_modules': None, 'decoding_format': None, 'no_seed_provided': False, 'eos_token': None}, 'eval_lm': {'_name': None, 'output_word_probs': False, 'output_word_stats': False, 'context_window': 0, 'softmax_batch': 9223372036854775807}, 'interactive': {'_name': None, 'buffer_size': 0, 'input': '-'}, 'model': Namespace(_name='roberta_small', activation_dropout=0.0, activation_fn='gelu', adaptive_input=False, all_gather_list_size=16384, arch='roberta_small', attention_dropout=0.1, best_checkpoint_metric='loss', bpe=None, broadcast_buffers=False, bucket_cap_mb=25, checkpoint_suffix='', clip_norm=25, cpu=False, criterion='smooth_masked_lm', curriculum=0, data='/Users/augustehlers/miniconda3/envs/ABDesign_case/lib/python3.8/site-packages/sapiens/models/v1', dataset_impl=None, ddp_backend='no_c10d', device_id=0, disable_validation=False, distributed_backend='nccl', distributed_init_method='tcp://localhost:16224', distributed_no_spawn=False, distributed_port=-1, distributed_rank=0, distributed_world_size=4, dropout=0.1, empty_cache_freq=0, encoder_attention_heads=8, encoder_embed_dim=128, encoder_ffn_embed_dim=256, encoder_layerdrop=0, encoder_layers=4, encoder_layers_to_keep=None, encoder_learned_pos=True, encoder_normalize_before=False, fast_stat_sync=False, ffn_blocks_to_remove=-1, ffn_reg_scale_factor=0.0, find_unused_parameters=False, fix_batches_to_gpus=False, fixed_validation_seed=None, force_anneal=None, fp16=True, fp16_init_scale=128, fp16_no_flatten_grads=False, fp16_scale_tolerance=0.0, fp16_scale_window=None, freq_weighted_replacement=False, keep_best_checkpoints=-1, keep_interval_updates=0, keep_last_epochs=-1, label_smoothing=0.1, layernorm_embedding=True, leave_unmasked_prob=0.5, load_checkpoint_heads=True, log_format='simple', log_interval=1000, lr=[0.001], lr_scheduler='fixed', lr_shrink=0.1, mask_prob=0.15, mask_whole_words=False, max_epoch=700, max_positions=144, max_sentences=512, max_sentences_valid=512, max_source_positions=144, max_target_positions=144, max_tokens=None, max_tokens_valid=None, max_update=0, maximize_best_checkpoint_metric=False, memory_efficient_fp16=False, mha_heads_to_keep=-1, mha_reg_scale_factor=0.0, min_loss_scale=0.0001, min_params_to_wrap=100000000, model_parallel_size=1, momentum=0.99, no_epoch_checkpoints=False, no_last_checkpoints=False, no_progress_bar=False, no_save=False, no_save_optimizer_state=False, no_scale_embedding=True, no_token_positional_embeddings=False, num_workers=1, optimizer='nag', optimizer_overrides='{}', patience=-1, pooler_activation_fn='tanh', pooler_dropout=0.0, quant_noise_pq=0, quant_noise_pq_block_size=8, quant_noise_scalar=0, random_token_prob=0.5, required_batch_size_multiple=8, reset_dataloader=False, reset_lr_scheduler=False, reset_meters=False, reset_optimizer=False, restore_file='data/models/human_heavy_chain_by_year/seq_random20M/11_faster_smooth_600epochs/checkpoints/checkpoint_last.pt', sample_break_mode='complete', save_dir='data/models/human_heavy_chain_by_year/seq_random20M/13_unmasked_700epochs/checkpoints', save_interval=1, save_interval_updates=0, seed=1, sentence_avg=False, skip_invalid_size_inputs_valid_test=True, spectral_norm_classification_head=False, stop_min_lr=-1, task='masked_lm', tensorboard_logdir='data/models/human_heavy_chain_by_year/seq_random20M/13_unmasked_700epochs/tensorboard', threshold_loss_scale=None, tokenizer=None, tokens_per_sample=144, train_subset='train', untie_weights_roberta=False, update_freq=[1], use_bmuf=False, user_dir='bin/fairseq_plugins', valid_subset='valid', validate_interval=5, warmup_updates=0, weight_decay=0.0001), 'task': {'_name': 'masked_lm', 'data': '/Users/augustehlers/miniconda3/envs/ABDesign_case/lib/python3.8/site-packages/sapiens/models/v1', 'sample_break_mode': 'complete', 'tokens_per_sample': 144, 'mask_prob': 0.15, 'leave_unmasked_prob': 0.5, 'random_token_prob': 0.5, 'freq_weighted_replacement': False, 'mask_whole_words': False, 'mask_multiple_length': 1, 'mask_stdev': 0.0, 'shorten_method': 'none', 'shorten_data_split_list': '', 'seed': 1, 'include_target_tokens': False}, 'criterion': Namespace(_name='smooth_masked_lm', activation_dropout=0.0, activation_fn='gelu', all_gather_list_size=16384, arch='roberta_small', attention_dropout=0.1, best_checkpoint_metric='loss', bpe=None, broadcast_buffers=False, bucket_cap_mb=25, checkpoint_suffix='', clip_norm=25, cpu=False, criterion='smooth_masked_lm', curriculum=0, data='/Users/augustehlers/miniconda3/envs/ABDesign_case/lib/python3.8/site-packages/sapiens/models/v1', dataset_impl=None, ddp_backend='no_c10d', device_id=0, disable_validation=False, distributed_backend='nccl', distributed_init_method='tcp://localhost:16224', distributed_no_spawn=False, distributed_port=-1, distributed_rank=0, distributed_world_size=4, dropout=0.1, empty_cache_freq=0, encoder_attention_heads=8, encoder_embed_dim=128, encoder_ffn_embed_dim=256, encoder_layerdrop=0, encoder_layers=4, encoder_layers_to_keep=None, fast_stat_sync=False, find_unused_parameters=False, fix_batches_to_gpus=False, fixed_validation_seed=None, force_anneal=None, fp16=True, fp16_init_scale=128, fp16_no_flatten_grads=False, fp16_scale_tolerance=0.0, fp16_scale_window=None, freq_weighted_replacement=False, keep_best_checkpoints=-1, keep_interval_updates=0, keep_last_epochs=-1, label_smoothing=0.1, leave_unmasked_prob=0.5, load_checkpoint_heads=True, log_format='simple', log_interval=1000, lr=[0.001], lr_scheduler='fixed', lr_shrink=0.1, mask_prob=0.15, mask_whole_words=False, max_epoch=700, max_positions=144, max_sentences=512, max_sentences_valid=512, max_source_positions=144, max_target_positions=144, max_tokens=None, max_tokens_valid=None, max_update=0, maximize_best_checkpoint_metric=False, memory_efficient_fp16=False, min_loss_scale=0.0001, model_parallel_size=1, momentum=0.99, no_epoch_checkpoints=False, no_last_checkpoints=False, no_progress_bar=False, no_save=False, no_save_optimizer_state=False, num_workers=1, optimizer='nag', optimizer_overrides='{}', patience=-1, pooler_activation_fn='tanh', pooler_dropout=0.0, random_token_prob=0.5, required_batch_size_multiple=8, reset_dataloader=False, reset_lr_scheduler=False, reset_meters=False, reset_optimizer=False, restore_file='data/models/human_heavy_chain_by_year/seq_random20M/11_faster_smooth_600epochs/checkpoints/checkpoint_last.pt', sample_break_mode='complete', save_dir='data/models/human_heavy_chain_by_year/seq_random20M/13_unmasked_700epochs/checkpoints', save_interval=1, save_interval_updates=0, seed=1, sentence_avg=False, skip_invalid_size_inputs_valid_test=True, stop_min_lr=-1, task='masked_lm', tensorboard_logdir='data/models/human_heavy_chain_by_year/seq_random20M/13_unmasked_700epochs/tensorboard', threshold_loss_scale=None, tokenizer=None, tokens_per_sample=144, train_subset='train', update_freq=[1], use_bmuf=False, user_dir='bin/fairseq_plugins', valid_subset='valid', validate_interval=5, warmup_updates=0, weight_decay=0.0001), 'optimizer': {'_name': 'nag', 'momentum': 0.99, 'weight_decay': 0.0001, 'lr': [0.001]}, 'lr_scheduler': {'_name': 'fixed', 'force_anneal': None, 'lr_shrink': 0.1, 'warmup_updates': 0, 'lr': [0.001]}, 'scoring': None, 'bpe': None, 'tokenizer': None, 'ema': {'_name': None, 'store_ema': False, 'ema_decay': 0.9999, 'ema_start_update': 0, 'ema_seed_model': None, 'ema_update_freq': 1, 'ema_fp32': False}}\n"
     ]
    }
   ],
   "source": [
    "train_embeddings = get_sapiens_embedding(CDR3_sequences)\n",
    "test_embeddings = get_sapiens_embedding(test_data)"
   ]
  },
  {
   "attachments": {},
   "cell_type": "markdown",
   "id": "e4153c86",
   "metadata": {},
   "source": [
    "I perform gridsearch and kfold cross validation in this case since the sequences are generated by random selection from the amino acids at random lengths. If these were real CDR3 sequences, I would expect more conservation at certain residues and would probably use something like a stratified k-fold CV to group similar sequences into the same fold. I want to predict how each of these mutations affect binding affinity and it will be harder for the model to learn if grouped randomly as in normal K-fold\n",
    "\n",
    "Below I use the sklearn and a XGboost regressor to predict BA. I perform gridsearch over max depth of the tree, number of estimators and the embedding layers in the sapiens embeddings. I use Sapiens to model the sequences and obtain sequence embeddings. These are then scaled prior to PCA followed by fitting the model."
   ]
  },
  {
   "cell_type": "code",
   "execution_count": 59,
   "id": "5ce763d0",
   "metadata": {},
   "outputs": [
    {
     "name": "stdout",
     "output_type": "stream",
     "text": [
      "Fitting 5 folds for each of 60 candidates, totalling 300 fits\n"
     ]
    },
    {
     "data": {
      "text/html": [
       "<style>#sk-container-id-10 {color: black;background-color: white;}#sk-container-id-10 pre{padding: 0;}#sk-container-id-10 div.sk-toggleable {background-color: white;}#sk-container-id-10 label.sk-toggleable__label {cursor: pointer;display: block;width: 100%;margin-bottom: 0;padding: 0.3em;box-sizing: border-box;text-align: center;}#sk-container-id-10 label.sk-toggleable__label-arrow:before {content: \"▸\";float: left;margin-right: 0.25em;color: #696969;}#sk-container-id-10 label.sk-toggleable__label-arrow:hover:before {color: black;}#sk-container-id-10 div.sk-estimator:hover label.sk-toggleable__label-arrow:before {color: black;}#sk-container-id-10 div.sk-toggleable__content {max-height: 0;max-width: 0;overflow: hidden;text-align: left;background-color: #f0f8ff;}#sk-container-id-10 div.sk-toggleable__content pre {margin: 0.2em;color: black;border-radius: 0.25em;background-color: #f0f8ff;}#sk-container-id-10 input.sk-toggleable__control:checked~div.sk-toggleable__content {max-height: 200px;max-width: 100%;overflow: auto;}#sk-container-id-10 input.sk-toggleable__control:checked~label.sk-toggleable__label-arrow:before {content: \"▾\";}#sk-container-id-10 div.sk-estimator input.sk-toggleable__control:checked~label.sk-toggleable__label {background-color: #d4ebff;}#sk-container-id-10 div.sk-label input.sk-toggleable__control:checked~label.sk-toggleable__label {background-color: #d4ebff;}#sk-container-id-10 input.sk-hidden--visually {border: 0;clip: rect(1px 1px 1px 1px);clip: rect(1px, 1px, 1px, 1px);height: 1px;margin: -1px;overflow: hidden;padding: 0;position: absolute;width: 1px;}#sk-container-id-10 div.sk-estimator {font-family: monospace;background-color: #f0f8ff;border: 1px dotted black;border-radius: 0.25em;box-sizing: border-box;margin-bottom: 0.5em;}#sk-container-id-10 div.sk-estimator:hover {background-color: #d4ebff;}#sk-container-id-10 div.sk-parallel-item::after {content: \"\";width: 100%;border-bottom: 1px solid gray;flex-grow: 1;}#sk-container-id-10 div.sk-label:hover label.sk-toggleable__label {background-color: #d4ebff;}#sk-container-id-10 div.sk-serial::before {content: \"\";position: absolute;border-left: 1px solid gray;box-sizing: border-box;top: 0;bottom: 0;left: 50%;z-index: 0;}#sk-container-id-10 div.sk-serial {display: flex;flex-direction: column;align-items: center;background-color: white;padding-right: 0.2em;padding-left: 0.2em;position: relative;}#sk-container-id-10 div.sk-item {position: relative;z-index: 1;}#sk-container-id-10 div.sk-parallel {display: flex;align-items: stretch;justify-content: center;background-color: white;position: relative;}#sk-container-id-10 div.sk-item::before, #sk-container-id-10 div.sk-parallel-item::before {content: \"\";position: absolute;border-left: 1px solid gray;box-sizing: border-box;top: 0;bottom: 0;left: 50%;z-index: -1;}#sk-container-id-10 div.sk-parallel-item {display: flex;flex-direction: column;z-index: 1;position: relative;background-color: white;}#sk-container-id-10 div.sk-parallel-item:first-child::after {align-self: flex-end;width: 50%;}#sk-container-id-10 div.sk-parallel-item:last-child::after {align-self: flex-start;width: 50%;}#sk-container-id-10 div.sk-parallel-item:only-child::after {width: 0;}#sk-container-id-10 div.sk-dashed-wrapped {border: 1px dashed gray;margin: 0 0.4em 0.5em 0.4em;box-sizing: border-box;padding-bottom: 0.4em;background-color: white;}#sk-container-id-10 div.sk-label label {font-family: monospace;font-weight: bold;display: inline-block;line-height: 1.2em;}#sk-container-id-10 div.sk-label-container {text-align: center;}#sk-container-id-10 div.sk-container {/* jupyter's `normalize.less` sets `[hidden] { display: none; }` but bootstrap.min.css set `[hidden] { display: none !important; }` so we also need the `!important` here to be able to override the default hidden behavior on the sphinx rendered scikit-learn.org. See: https://github.com/scikit-learn/scikit-learn/issues/21755 */display: inline-block !important;position: relative;}#sk-container-id-10 div.sk-text-repr-fallback {display: none;}</style><div id=\"sk-container-id-10\" class=\"sk-top-container\"><div class=\"sk-text-repr-fallback\"><pre>GridSearchCV(cv=5,\n",
       "             estimator=Pipeline(steps=[(&#x27;embeddings&#x27;, sapiens_embeddings()),\n",
       "                                       (&#x27;scale&#x27;, StandardScaler()),\n",
       "                                       (&#x27;pca&#x27;, PCA(n_components=0.95)),\n",
       "                                       (&#x27;model&#x27;,\n",
       "                                        XGBRegressor(base_score=None,\n",
       "                                                     booster=None,\n",
       "                                                     callbacks=None,\n",
       "                                                     colsample_bylevel=None,\n",
       "                                                     colsample_bynode=None,\n",
       "                                                     colsample_bytree=None,\n",
       "                                                     early_stopping_rounds=None,\n",
       "                                                     enable_categorical=False,\n",
       "                                                     eval_metric=None,\n",
       "                                                     feature_ty...\n",
       "                                                     max_leaves=None,\n",
       "                                                     min_child_weight=None,\n",
       "                                                     missing=nan,\n",
       "                                                     monotone_constraints=None,\n",
       "                                                     n_estimators=100,\n",
       "                                                     n_jobs=None,\n",
       "                                                     num_parallel_tree=None,\n",
       "                                                     predictor=None,\n",
       "                                                     random_state=None, ...))]),\n",
       "             n_jobs=-1,\n",
       "             param_grid={&#x27;embeddings__layer&#x27;: [0, 1, 2, 3, 4],\n",
       "                         &#x27;model__max_depth&#x27;: [2, 4, 6],\n",
       "                         &#x27;model__n_estimators&#x27;: [100, 200, 400, 800]},\n",
       "             scoring=make_scorer(rmse, greater_is_better=False), verbose=1)</pre><b>In a Jupyter environment, please rerun this cell to show the HTML representation or trust the notebook. <br />On GitHub, the HTML representation is unable to render, please try loading this page with nbviewer.org.</b></div><div class=\"sk-container\" hidden><div class=\"sk-item sk-dashed-wrapped\"><div class=\"sk-label-container\"><div class=\"sk-label sk-toggleable\"><input class=\"sk-toggleable__control sk-hidden--visually\" id=\"sk-estimator-id-55\" type=\"checkbox\" ><label for=\"sk-estimator-id-55\" class=\"sk-toggleable__label sk-toggleable__label-arrow\">GridSearchCV</label><div class=\"sk-toggleable__content\"><pre>GridSearchCV(cv=5,\n",
       "             estimator=Pipeline(steps=[(&#x27;embeddings&#x27;, sapiens_embeddings()),\n",
       "                                       (&#x27;scale&#x27;, StandardScaler()),\n",
       "                                       (&#x27;pca&#x27;, PCA(n_components=0.95)),\n",
       "                                       (&#x27;model&#x27;,\n",
       "                                        XGBRegressor(base_score=None,\n",
       "                                                     booster=None,\n",
       "                                                     callbacks=None,\n",
       "                                                     colsample_bylevel=None,\n",
       "                                                     colsample_bynode=None,\n",
       "                                                     colsample_bytree=None,\n",
       "                                                     early_stopping_rounds=None,\n",
       "                                                     enable_categorical=False,\n",
       "                                                     eval_metric=None,\n",
       "                                                     feature_ty...\n",
       "                                                     max_leaves=None,\n",
       "                                                     min_child_weight=None,\n",
       "                                                     missing=nan,\n",
       "                                                     monotone_constraints=None,\n",
       "                                                     n_estimators=100,\n",
       "                                                     n_jobs=None,\n",
       "                                                     num_parallel_tree=None,\n",
       "                                                     predictor=None,\n",
       "                                                     random_state=None, ...))]),\n",
       "             n_jobs=-1,\n",
       "             param_grid={&#x27;embeddings__layer&#x27;: [0, 1, 2, 3, 4],\n",
       "                         &#x27;model__max_depth&#x27;: [2, 4, 6],\n",
       "                         &#x27;model__n_estimators&#x27;: [100, 200, 400, 800]},\n",
       "             scoring=make_scorer(rmse, greater_is_better=False), verbose=1)</pre></div></div></div><div class=\"sk-parallel\"><div class=\"sk-parallel-item\"><div class=\"sk-item\"><div class=\"sk-label-container\"><div class=\"sk-label sk-toggleable\"><input class=\"sk-toggleable__control sk-hidden--visually\" id=\"sk-estimator-id-56\" type=\"checkbox\" ><label for=\"sk-estimator-id-56\" class=\"sk-toggleable__label sk-toggleable__label-arrow\">estimator: Pipeline</label><div class=\"sk-toggleable__content\"><pre>Pipeline(steps=[(&#x27;embeddings&#x27;, sapiens_embeddings()),\n",
       "                (&#x27;scale&#x27;, StandardScaler()), (&#x27;pca&#x27;, PCA(n_components=0.95)),\n",
       "                (&#x27;model&#x27;,\n",
       "                 XGBRegressor(base_score=None, booster=None, callbacks=None,\n",
       "                              colsample_bylevel=None, colsample_bynode=None,\n",
       "                              colsample_bytree=None, early_stopping_rounds=None,\n",
       "                              enable_categorical=False, eval_metric=None,\n",
       "                              feature_types=None, gamma=None, gpu_id=None,\n",
       "                              grow_policy=None, importance_type=None,\n",
       "                              interaction_constraints=None, learning_rate=None,\n",
       "                              max_bin=None, max_cat_threshold=None,\n",
       "                              max_cat_to_onehot=None, max_delta_step=None,\n",
       "                              max_depth=None, max_leaves=None,\n",
       "                              min_child_weight=None, missing=nan,\n",
       "                              monotone_constraints=None, n_estimators=100,\n",
       "                              n_jobs=None, num_parallel_tree=None,\n",
       "                              predictor=None, random_state=None, ...))])</pre></div></div></div><div class=\"sk-serial\"><div class=\"sk-item\"><div class=\"sk-serial\"><div class=\"sk-item\"><div class=\"sk-estimator sk-toggleable\"><input class=\"sk-toggleable__control sk-hidden--visually\" id=\"sk-estimator-id-57\" type=\"checkbox\" ><label for=\"sk-estimator-id-57\" class=\"sk-toggleable__label sk-toggleable__label-arrow\">sapiens_embeddings</label><div class=\"sk-toggleable__content\"><pre>sapiens_embeddings()</pre></div></div></div><div class=\"sk-item\"><div class=\"sk-estimator sk-toggleable\"><input class=\"sk-toggleable__control sk-hidden--visually\" id=\"sk-estimator-id-58\" type=\"checkbox\" ><label for=\"sk-estimator-id-58\" class=\"sk-toggleable__label sk-toggleable__label-arrow\">StandardScaler</label><div class=\"sk-toggleable__content\"><pre>StandardScaler()</pre></div></div></div><div class=\"sk-item\"><div class=\"sk-estimator sk-toggleable\"><input class=\"sk-toggleable__control sk-hidden--visually\" id=\"sk-estimator-id-59\" type=\"checkbox\" ><label for=\"sk-estimator-id-59\" class=\"sk-toggleable__label sk-toggleable__label-arrow\">PCA</label><div class=\"sk-toggleable__content\"><pre>PCA(n_components=0.95)</pre></div></div></div><div class=\"sk-item\"><div class=\"sk-estimator sk-toggleable\"><input class=\"sk-toggleable__control sk-hidden--visually\" id=\"sk-estimator-id-60\" type=\"checkbox\" ><label for=\"sk-estimator-id-60\" class=\"sk-toggleable__label sk-toggleable__label-arrow\">XGBRegressor</label><div class=\"sk-toggleable__content\"><pre>XGBRegressor(base_score=None, booster=None, callbacks=None,\n",
       "             colsample_bylevel=None, colsample_bynode=None,\n",
       "             colsample_bytree=None, early_stopping_rounds=None,\n",
       "             enable_categorical=False, eval_metric=None, feature_types=None,\n",
       "             gamma=None, gpu_id=None, grow_policy=None, importance_type=None,\n",
       "             interaction_constraints=None, learning_rate=None, max_bin=None,\n",
       "             max_cat_threshold=None, max_cat_to_onehot=None,\n",
       "             max_delta_step=None, max_depth=None, max_leaves=None,\n",
       "             min_child_weight=None, missing=nan, monotone_constraints=None,\n",
       "             n_estimators=100, n_jobs=None, num_parallel_tree=None,\n",
       "             predictor=None, random_state=None, ...)</pre></div></div></div></div></div></div></div></div></div></div></div></div>"
      ],
      "text/plain": [
       "GridSearchCV(cv=5,\n",
       "             estimator=Pipeline(steps=[('embeddings', sapiens_embeddings()),\n",
       "                                       ('scale', StandardScaler()),\n",
       "                                       ('pca', PCA(n_components=0.95)),\n",
       "                                       ('model',\n",
       "                                        XGBRegressor(base_score=None,\n",
       "                                                     booster=None,\n",
       "                                                     callbacks=None,\n",
       "                                                     colsample_bylevel=None,\n",
       "                                                     colsample_bynode=None,\n",
       "                                                     colsample_bytree=None,\n",
       "                                                     early_stopping_rounds=None,\n",
       "                                                     enable_categorical=False,\n",
       "                                                     eval_metric=None,\n",
       "                                                     feature_ty...\n",
       "                                                     max_leaves=None,\n",
       "                                                     min_child_weight=None,\n",
       "                                                     missing=nan,\n",
       "                                                     monotone_constraints=None,\n",
       "                                                     n_estimators=100,\n",
       "                                                     n_jobs=None,\n",
       "                                                     num_parallel_tree=None,\n",
       "                                                     predictor=None,\n",
       "                                                     random_state=None, ...))]),\n",
       "             n_jobs=-1,\n",
       "             param_grid={'embeddings__layer': [0, 1, 2, 3, 4],\n",
       "                         'model__max_depth': [2, 4, 6],\n",
       "                         'model__n_estimators': [100, 200, 400, 800]},\n",
       "             scoring=make_scorer(rmse, greater_is_better=False), verbose=1)"
      ]
     },
     "execution_count": 59,
     "metadata": {},
     "output_type": "execute_result"
    }
   ],
   "source": [
    "from sklearn.decomposition import PCA\n",
    "from sklearn.preprocessing import StandardScaler\n",
    "from sklearn.model_selection import GridSearchCV\n",
    "from sklearn.pipeline import Pipeline\n",
    "from sklearn.base import BaseEstimator, TransformerMixin\n",
    "from sklearn.metrics import make_scorer\n",
    "import xgboost as xgb\n",
    "\n",
    "\n",
    "# Defining RMSE loss function\n",
    "def rmse(actual, predicted):\n",
    "    predicted = np.array(predicted)\n",
    "    actual = np.array(actual)\n",
    "    difference = predicted - actual\n",
    "    squared_difference = difference**2\n",
    "    mean_squared_difference = squared_difference.mean()\n",
    "    rmse = np.sqrt(mean_squared_difference)\n",
    "    return rmse\n",
    "\n",
    "\n",
    "# Wrap the scorer to be used with sklearn\n",
    "scorer = make_scorer(rmse, greater_is_better=False)\n",
    "\n",
    "\n",
    "# Defining a base estimator to extract a given layer\n",
    "class sapiens_embeddings(BaseEstimator, TransformerMixin):\n",
    "    def __init__(self, layer=None):\n",
    "        self.layer = layer\n",
    "\n",
    "    def fit(self, X, y=None):\n",
    "        return self\n",
    "\n",
    "    def transform(self, X, y=None):\n",
    "        emb = X[:, self.layer, :]\n",
    "        return emb\n",
    "\n",
    "\n",
    "# Defining XGBRegressor\n",
    "xgb_model = xgb.XGBRegressor()\n",
    "\n",
    "# Defining a pipleline starting with obtaining the given embeddings, then scaling, then PCA and are then fed to the model\n",
    "pipe = Pipeline(\n",
    "    steps=[\n",
    "        (\"embeddings\", sapiens_embeddings()),\n",
    "        (\"scale\", StandardScaler()),\n",
    "        (\"pca\", PCA(n_components=0.95)),\n",
    "        (\"model\", xgb_model),\n",
    "    ]\n",
    ")\n",
    "\n",
    "# Define gridsearch using the pipeline and providing the parameters to search\n",
    "clf = GridSearchCV(\n",
    "    pipe,\n",
    "    {\n",
    "        \"embeddings__layer\": [0, 1, 2, 3, 4],\n",
    "        \"model__max_depth\": [2, 4, 6],\n",
    "        \"model__n_estimators\": [100, 200, 400, 800],\n",
    "    },\n",
    "    verbose=1,\n",
    "    scoring=scorer,\n",
    "    n_jobs=-1,\n",
    "    cv=5,\n",
    "    refit=True,\n",
    ")\n",
    "\n",
    "# Fit the model\n",
    "clf.fit(train_embeddings, scores)"
   ]
  },
  {
   "cell_type": "code",
   "execution_count": 60,
   "id": "4f2fae36",
   "metadata": {},
   "outputs": [
    {
     "name": "stdout",
     "output_type": "stream",
     "text": [
      "Best parameters: {'embeddings__layer': 4, 'model__max_depth': 2, 'model__n_estimators': 100}\n",
      "RMSE Mean CV score: -1.264551068079165\n"
     ]
    }
   ],
   "source": [
    "# Extracting best results\n",
    "mean_score = clf.cv_results_[\"mean_test_score\"][clf.best_index_]\n",
    "print(f\"Best parameters: {clf.best_params_}\")\n",
    "print(f\"RMSE Mean CV score: {mean_score}\")"
   ]
  },
  {
   "attachments": {},
   "cell_type": "markdown",
   "id": "a5ff58a3",
   "metadata": {},
   "source": [
    "Visualizing train predictions vs true values"
   ]
  },
  {
   "cell_type": "code",
   "execution_count": 61,
   "id": "8c45c1c0",
   "metadata": {},
   "outputs": [
    {
     "data": {
      "image/png": "[encoded data removed]",
      "text/plain": [
       "<Figure size 640x480 with 1 Axes>"
      ]
     },
     "metadata": {},
     "output_type": "display_data"
    }
   ],
   "source": [
    "import matplotlib.pyplot as plt\n",
    "\n",
    "train_y_pred = clf.predict(train_embeddings)\n",
    "plt.scatter(train_y_pred, scores)\n",
    "plt.xlim(5, 11)\n",
    "plt.ylim(5, 11)\n",
    "plt.xlabel(\"Predicted BA\")\n",
    "plt.ylabel(\"True BA\")\n",
    "plt.title(\"True vs Predicted BA's\")\n",
    "plt.show()"
   ]
  },
  {
   "attachments": {},
   "cell_type": "markdown",
   "id": "79330414",
   "metadata": {},
   "source": [
    "A linear trend is observed but predictions comes with high uncertainty."
   ]
  },
  {
   "attachments": {},
   "cell_type": "markdown",
   "id": "5b714f97",
   "metadata": {},
   "source": [
    "Now I predict the test set"
   ]
  },
  {
   "cell_type": "code",
   "execution_count": 62,
   "id": "26602e76",
   "metadata": {},
   "outputs": [
    {
     "data": {
      "text/plain": [
       "array([7.950748 , 7.6924105, 7.8638515, 8.012865 , 8.096401 ],\n",
       "      dtype=float32)"
      ]
     },
     "execution_count": 62,
     "metadata": {},
     "output_type": "execute_result"
    }
   ],
   "source": [
    "clf.predict(test_embeddings)"
   ]
  }
 ],
 "metadata": {
  "kernelspec": {
   "display_name": "Python 3 (ipykernel)",
   "language": "python",
   "name": "python3"
  },
  "language_info": {
   "codemirror_mode": {
    "name": "ipython",
    "version": 3
   },
   "file_extension": ".py",
   "mimetype": "text/x-python",
   "name": "python",
   "nbconvert_exporter": "python",
   "pygments_lexer": "ipython3",
   "version": "3.8.16"
  },
  "widgets": {
   "application/vnd.jupyter.widget-state+json": {
    "state": {},
    "version_major": 2,
    "version_minor": 0
   }
  }
 },
 "nbformat": 4,
 "nbformat_minor": 5
}
